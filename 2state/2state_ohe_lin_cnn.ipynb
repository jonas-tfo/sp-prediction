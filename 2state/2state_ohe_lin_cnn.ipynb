{
  "cells": [
    {
      "cell_type": "code",
      "execution_count": 12,
      "id": "8b1192d4",
      "metadata": {
        "colab": {
          "base_uri": "https://localhost:8080/"
        },
        "id": "8b1192d4",
        "outputId": "d676be93-7a06-4d96-d0cb-8db680164ca9"
      },
      "outputs": [
        {
          "output_type": "stream",
          "name": "stdout",
          "text": [
            "Requirement already satisfied: pandas in /usr/local/lib/python3.12/dist-packages (2.2.2)\n",
            "Requirement already satisfied: numpy>=1.26.0 in /usr/local/lib/python3.12/dist-packages (from pandas) (2.0.2)\n",
            "Requirement already satisfied: python-dateutil>=2.8.2 in /usr/local/lib/python3.12/dist-packages (from pandas) (2.9.0.post0)\n",
            "Requirement already satisfied: pytz>=2020.1 in /usr/local/lib/python3.12/dist-packages (from pandas) (2025.2)\n",
            "Requirement already satisfied: tzdata>=2022.7 in /usr/local/lib/python3.12/dist-packages (from pandas) (2025.2)\n",
            "Requirement already satisfied: six>=1.5 in /usr/local/lib/python3.12/dist-packages (from python-dateutil>=2.8.2->pandas) (1.17.0)\n",
            "Requirement already satisfied: numpy in /usr/local/lib/python3.12/dist-packages (2.0.2)\n",
            "Requirement already satisfied: torch in /usr/local/lib/python3.12/dist-packages (2.8.0+cu126)\n",
            "Requirement already satisfied: filelock in /usr/local/lib/python3.12/dist-packages (from torch) (3.20.0)\n",
            "Requirement already satisfied: typing-extensions>=4.10.0 in /usr/local/lib/python3.12/dist-packages (from torch) (4.15.0)\n",
            "Requirement already satisfied: setuptools in /usr/local/lib/python3.12/dist-packages (from torch) (75.2.0)\n",
            "Requirement already satisfied: sympy>=1.13.3 in /usr/local/lib/python3.12/dist-packages (from torch) (1.13.3)\n",
            "Requirement already satisfied: networkx in /usr/local/lib/python3.12/dist-packages (from torch) (3.5)\n",
            "Requirement already satisfied: jinja2 in /usr/local/lib/python3.12/dist-packages (from torch) (3.1.6)\n",
            "Requirement already satisfied: fsspec in /usr/local/lib/python3.12/dist-packages (from torch) (2025.3.0)\n",
            "Requirement already satisfied: nvidia-cuda-nvrtc-cu12==12.6.77 in /usr/local/lib/python3.12/dist-packages (from torch) (12.6.77)\n",
            "Requirement already satisfied: nvidia-cuda-runtime-cu12==12.6.77 in /usr/local/lib/python3.12/dist-packages (from torch) (12.6.77)\n",
            "Requirement already satisfied: nvidia-cuda-cupti-cu12==12.6.80 in /usr/local/lib/python3.12/dist-packages (from torch) (12.6.80)\n",
            "Requirement already satisfied: nvidia-cudnn-cu12==9.10.2.21 in /usr/local/lib/python3.12/dist-packages (from torch) (9.10.2.21)\n",
            "Requirement already satisfied: nvidia-cublas-cu12==12.6.4.1 in /usr/local/lib/python3.12/dist-packages (from torch) (12.6.4.1)\n",
            "Requirement already satisfied: nvidia-cufft-cu12==11.3.0.4 in /usr/local/lib/python3.12/dist-packages (from torch) (11.3.0.4)\n",
            "Requirement already satisfied: nvidia-curand-cu12==10.3.7.77 in /usr/local/lib/python3.12/dist-packages (from torch) (10.3.7.77)\n",
            "Requirement already satisfied: nvidia-cusolver-cu12==11.7.1.2 in /usr/local/lib/python3.12/dist-packages (from torch) (11.7.1.2)\n",
            "Requirement already satisfied: nvidia-cusparse-cu12==12.5.4.2 in /usr/local/lib/python3.12/dist-packages (from torch) (12.5.4.2)\n",
            "Requirement already satisfied: nvidia-cusparselt-cu12==0.7.1 in /usr/local/lib/python3.12/dist-packages (from torch) (0.7.1)\n",
            "Requirement already satisfied: nvidia-nccl-cu12==2.27.3 in /usr/local/lib/python3.12/dist-packages (from torch) (2.27.3)\n",
            "Requirement already satisfied: nvidia-nvtx-cu12==12.6.77 in /usr/local/lib/python3.12/dist-packages (from torch) (12.6.77)\n",
            "Requirement already satisfied: nvidia-nvjitlink-cu12==12.6.85 in /usr/local/lib/python3.12/dist-packages (from torch) (12.6.85)\n",
            "Requirement already satisfied: nvidia-cufile-cu12==1.11.1.6 in /usr/local/lib/python3.12/dist-packages (from torch) (1.11.1.6)\n",
            "Requirement already satisfied: triton==3.4.0 in /usr/local/lib/python3.12/dist-packages (from torch) (3.4.0)\n",
            "Requirement already satisfied: mpmath<1.4,>=1.1.0 in /usr/local/lib/python3.12/dist-packages (from sympy>=1.13.3->torch) (1.3.0)\n",
            "Requirement already satisfied: MarkupSafe>=2.0 in /usr/local/lib/python3.12/dist-packages (from jinja2->torch) (3.0.3)\n",
            "Requirement already satisfied: scikit-learn in /usr/local/lib/python3.12/dist-packages (1.6.1)\n",
            "Requirement already satisfied: numpy>=1.19.5 in /usr/local/lib/python3.12/dist-packages (from scikit-learn) (2.0.2)\n",
            "Requirement already satisfied: scipy>=1.6.0 in /usr/local/lib/python3.12/dist-packages (from scikit-learn) (1.16.2)\n",
            "Requirement already satisfied: joblib>=1.2.0 in /usr/local/lib/python3.12/dist-packages (from scikit-learn) (1.5.2)\n",
            "Requirement already satisfied: threadpoolctl>=3.1.0 in /usr/local/lib/python3.12/dist-packages (from scikit-learn) (3.6.0)\n",
            "Requirement already satisfied: matplotlib in /usr/local/lib/python3.12/dist-packages (3.10.0)\n",
            "Requirement already satisfied: contourpy>=1.0.1 in /usr/local/lib/python3.12/dist-packages (from matplotlib) (1.3.3)\n",
            "Requirement already satisfied: cycler>=0.10 in /usr/local/lib/python3.12/dist-packages (from matplotlib) (0.12.1)\n",
            "Requirement already satisfied: fonttools>=4.22.0 in /usr/local/lib/python3.12/dist-packages (from matplotlib) (4.60.1)\n",
            "Requirement already satisfied: kiwisolver>=1.3.1 in /usr/local/lib/python3.12/dist-packages (from matplotlib) (1.4.9)\n",
            "Requirement already satisfied: numpy>=1.23 in /usr/local/lib/python3.12/dist-packages (from matplotlib) (2.0.2)\n",
            "Requirement already satisfied: packaging>=20.0 in /usr/local/lib/python3.12/dist-packages (from matplotlib) (25.0)\n",
            "Requirement already satisfied: pillow>=8 in /usr/local/lib/python3.12/dist-packages (from matplotlib) (11.3.0)\n",
            "Requirement already satisfied: pyparsing>=2.3.1 in /usr/local/lib/python3.12/dist-packages (from matplotlib) (3.2.5)\n",
            "Requirement already satisfied: python-dateutil>=2.7 in /usr/local/lib/python3.12/dist-packages (from matplotlib) (2.9.0.post0)\n",
            "Requirement already satisfied: six>=1.5 in /usr/local/lib/python3.12/dist-packages (from python-dateutil>=2.7->matplotlib) (1.17.0)\n",
            "Requirement already satisfied: tqdm in /usr/local/lib/python3.12/dist-packages (4.67.1)\n",
            "Requirement already satisfied: google in /usr/local/lib/python3.12/dist-packages (2.0.3)\n",
            "Requirement already satisfied: beautifulsoup4 in /usr/local/lib/python3.12/dist-packages (from google) (4.13.5)\n",
            "Requirement already satisfied: soupsieve>1.2 in /usr/local/lib/python3.12/dist-packages (from beautifulsoup4->google) (2.8)\n",
            "Requirement already satisfied: typing-extensions>=4.0.0 in /usr/local/lib/python3.12/dist-packages (from beautifulsoup4->google) (4.15.0)\n",
            "Using device: cuda\n"
          ]
        }
      ],
      "source": [
        "%pip install pandas\n",
        "%pip install numpy\n",
        "%pip install torch\n",
        "%pip install scikit-learn\n",
        "%pip install matplotlib\n",
        "%pip install tqdm\n",
        "%pip install google\n",
        "import numpy as np\n",
        "import pandas as pd\n",
        "import torch\n",
        "import torch.nn as nn\n",
        "import torch.nn.functional as F\n",
        "from torch.utils.data import Dataset, DataLoader\n",
        "from sklearn.model_selection import train_test_split\n",
        "from sklearn.metrics import classification_report, f1_score, matthews_corrcoef, accuracy_score\n",
        "from sklearn.utils import resample\n",
        "import matplotlib.pyplot as plt\n",
        "from tqdm import tqdm\n",
        "\n",
        "DEVICE = \"mps\" if torch.backends.mps.is_available() else \"cuda\" if torch.cuda.is_available() else \"cpu\"\n",
        "print(f\"Using device: {DEVICE}\")\n",
        "\n",
        "# Hyperparameters\n",
        "NUM_CLASSES = 2  # Binary classification (0: no signal peptide, 1: signal peptide)\n",
        "BATCH_SIZE = 32\n",
        "EPOCHS = 10\n",
        "LR = 0.001\n",
        "MAX_LENGTH = 100  # maybe adjust\n",
        "WINDOW_SIZE = 35  # sliding window (odd because model predicts center residue)\n",
        "STRIDE = 1  # Step size"
      ]
    },
    {
      "cell_type": "code",
      "execution_count": 13,
      "id": "181f6793",
      "metadata": {
        "colab": {
          "base_uri": "https://localhost:8080/"
        },
        "id": "181f6793",
        "outputId": "b40a3454-d6b5-4311-ae0d-44cb834f3cc3"
      },
      "outputs": [
        {
          "output_type": "stream",
          "name": "stdout",
          "text": [
            "Drive already mounted at /content/drive; to attempt to forcibly remount, call drive.mount(\"/content/drive\", force_remount=True).\n"
          ]
        }
      ],
      "source": [
        "from google.colab import drive\n",
        "import os\n",
        "drive.mount('/content/drive')\n",
        "\n",
        "DATA_PATH = \"/content/drive/MyDrive/PBLRost/data/reduced_30/\"\n",
        "TRAIN_CSV = os.path.join(DATA_PATH, \"reduced_30_signalP6_train.csv\")\n",
        "VAL_CSV = os.path.join(DATA_PATH, \"reduced_30_signalP6_val.csv\")\n",
        "TEST_CSV = os.path.join(DATA_PATH, \"reduced_30_signalP6_test.csv\")\n",
        "MODEL_PATH = \"/content/drive/MyDrive/PBLRost/models/2state_ohe_lin_cnn.pt\""
      ]
    },
    {
      "cell_type": "code",
      "execution_count": 14,
      "id": "6ce93383",
      "metadata": {
        "id": "6ce93383"
      },
      "outputs": [],
      "source": [
        "aas = 'ARNDCEQGHILKMFPSTWYV'\n",
        "aa2idx = {aa: i for i, aa in enumerate(aas)}\n",
        "idx2aa = {i: aa for aa, i in aa2idx.items()}\n",
        "num_aa = len(aas)\n",
        "\n",
        "def one_hot_encode_window(seq_window):\n",
        "    \"\"\"One-hot encode a sequence window\"\"\"\n",
        "    encoding = np.zeros((len(seq_window), num_aa))\n",
        "\n",
        "    for i, aa in enumerate(seq_window):\n",
        "        if aa in aa2idx:\n",
        "            encoding[i, aa2idx[aa]] = 1\n",
        "        # Unknown amino acids remain as zero vectors (as is the default)\n",
        "    return encoding"
      ]
    },
    {
      "cell_type": "code",
      "execution_count": 15,
      "id": "63ba15f2",
      "metadata": {
        "id": "63ba15f2"
      },
      "outputs": [],
      "source": [
        "def create_sliding_windows(sequence, labels, window_size, stride=1):\n",
        "    \"\"\"Create sliding windows from sequence and corresponding labels\"\"\"\n",
        "    windows = []\n",
        "    window_labels = []\n",
        "    positions = []\n",
        "\n",
        "    # Pad sequence for edge cases\n",
        "    pad_size = window_size // 2 # so starts classification after padding, at first real encoding\n",
        "    padded_seq = 'X' * pad_size + sequence + 'X' * pad_size\n",
        "    padded_labels = [0] * pad_size + labels + [0] * pad_size\n",
        "\n",
        "    # Create sliding windows\n",
        "    for i in range(0, len(sequence), stride):\n",
        "        start_idx = i\n",
        "        end_idx = i + window_size\n",
        "\n",
        "        if end_idx <= len(padded_seq):\n",
        "            window_seq = padded_seq[start_idx:end_idx]\n",
        "            # Label for the center position of the window\n",
        "            center_idx = start_idx + pad_size # residue to predict\n",
        "            if center_idx < len(padded_labels):\n",
        "                center_label = padded_labels[center_idx]\n",
        "\n",
        "                windows.append(window_seq)\n",
        "                window_labels.append(center_label)\n",
        "                positions.append(i)  # Original position in sequence\n",
        "\n",
        "    return windows, window_labels, positions"
      ]
    },
    {
      "cell_type": "code",
      "execution_count": 16,
      "id": "064304e2",
      "metadata": {
        "id": "064304e2"
      },
      "outputs": [],
      "source": [
        "def load_and_preprocess_data(csv_path):\n",
        "    \"\"\"Load CSV data and preprocess for sliding window approach\"\"\"\n",
        "    # Load CSV file\n",
        "    df = pd.read_csv(csv_path)\n",
        "\n",
        "    print(f\"Total records loaded: {len(df)}\")\n",
        "\n",
        "    # Filter out sequences with 'P' in labels (if needed)\n",
        "    df = df[~df[\"labels\"].str.contains(\"P\", na=False)]\n",
        "\n",
        "    print(f\"Records after filtering: {len(df)}\")\n",
        "\n",
        "    # Convert residue-level labels to binary\n",
        "    label_map = {'S': 1, 'T': 1, 'L': 1, 'I': 0, 'M': 0, 'O': 0}\n",
        "\n",
        "    # Create sliding windows for all sequences\n",
        "    all_windows = []\n",
        "    all_labels = []\n",
        "    all_seq_ids = []\n",
        "\n",
        "    for idx, row in df.iterrows():\n",
        "        sequence = row[\"sequence\"]\n",
        "        label_string = row[\"labels\"]\n",
        "\n",
        "        # Convert label string to binary array\n",
        "        residue_labels = [label_map.get(c, 0) for c in label_string]\n",
        "\n",
        "        # Skip sequences where label length doesn't match sequence length\n",
        "        if len(residue_labels) != len(sequence):\n",
        "            print(f\"Sequence length mismatch at index {idx}\")\n",
        "            continue\n",
        "\n",
        "        # Create sliding windows for this sequence\n",
        "        windows, window_labels, positions = create_sliding_windows(\n",
        "            sequence, residue_labels, WINDOW_SIZE, STRIDE\n",
        "        )\n",
        "\n",
        "        all_windows.extend(windows)\n",
        "        all_labels.extend(window_labels)\n",
        "        all_seq_ids.extend([idx] * len(windows))\n",
        "\n",
        "    print(f\"Total windows created: {len(all_windows)}\")\n",
        "    print(f\"Signal peptide windows: {sum(all_labels)}\")\n",
        "    print(f\"Non-signal peptide windows: {len(all_labels) - sum(all_labels)}\")\n",
        "\n",
        "    return all_windows, all_labels, all_seq_ids"
      ]
    },
    {
      "cell_type": "code",
      "execution_count": 17,
      "id": "408cc6b7",
      "metadata": {
        "id": "408cc6b7"
      },
      "outputs": [],
      "source": [
        "class SlidingWindowDataset(Dataset):\n",
        "    def __init__(self, windows, labels, window_size):\n",
        "        self.windows = windows\n",
        "        self.labels = labels\n",
        "        self.window_size = window_size\n",
        "\n",
        "        # Pre-encode all windows\n",
        "        self.encoded_windows = []\n",
        "        for window in windows:\n",
        "            encoded = one_hot_encode_window(window)\n",
        "            self.encoded_windows.append(encoded)\n",
        "\n",
        "    def __len__(self):\n",
        "        return len(self.windows)\n",
        "\n",
        "    def __getitem__(self, idx):\n",
        "        return {\n",
        "            'window': torch.tensor(self.encoded_windows[idx], dtype=torch.float32),\n",
        "            'label': torch.tensor(self.labels[idx], dtype=torch.long)\n",
        "        }"
      ]
    },
    {
      "cell_type": "code",
      "execution_count": 18,
      "id": "c777e161",
      "metadata": {
        "id": "c777e161"
      },
      "outputs": [],
      "source": [
        "class SlidingWindowSignalPeptideClassifier(nn.Module):\n",
        "    def __init__(self, window_size, num_aa, hidden_dim=128, num_layers=2, use_cnn=True):\n",
        "        super().__init__()\n",
        "        self.window_size = window_size\n",
        "        self.num_aa = num_aa\n",
        "        self.use_cnn = use_cnn\n",
        "\n",
        "        if use_cnn:\n",
        "            self.conv_layers = nn.Sequential(\n",
        "                nn.Conv1d(num_aa, 64, kernel_size=3, padding=1),\n",
        "                nn.ReLU(),\n",
        "                nn.Dropout(0.2),\n",
        "                nn.Conv1d(64, 32, kernel_size=3, padding=1),\n",
        "                nn.ReLU(),\n",
        "                nn.Dropout(0.2),\n",
        "                nn.AdaptiveAvgPool1d(1)  # Global average pooling\n",
        "            )\n",
        "            fc_input_dim = 32\n",
        "        else:\n",
        "            # flatten the window\n",
        "            fc_input_dim = window_size * num_aa\n",
        "\n",
        "        # Final classification layers\n",
        "        layers = []\n",
        "        in_dim = fc_input_dim\n",
        "\n",
        "        for _ in range(num_layers):\n",
        "            layers.extend([\n",
        "                nn.Linear(in_dim, hidden_dim),\n",
        "                nn.ReLU(),\n",
        "                nn.Dropout(0.3)\n",
        "            ])\n",
        "            in_dim = hidden_dim\n",
        "\n",
        "        # Binary classification output\n",
        "        layers.append(nn.Linear(hidden_dim, 1))\n",
        "\n",
        "        self.classifier = nn.Sequential(*layers)\n",
        "\n",
        "    def forward(self, x):\n",
        "        # x: [batch_size, window_size, num_aa]\n",
        "        batch_size = x.size(0)\n",
        "\n",
        "        if self.use_cnn:\n",
        "            # Transpose for Conv1d: [batch_size, num_aa, window_size]\n",
        "            x = x.transpose(1, 2)\n",
        "            x = self.conv_layers(x)\n",
        "            x = x.view(batch_size, -1)  # Flatten\n",
        "        else:\n",
        "            # Flatten for MLP\n",
        "            x = x.view(batch_size, -1)\n",
        "\n",
        "        logits = self.classifier(x)\n",
        "        return logits.squeeze(-1)  # Remove last dimension for binary classification"
      ]
    },
    {
      "cell_type": "code",
      "execution_count": 19,
      "id": "76c2361d",
      "metadata": {
        "id": "76c2361d"
      },
      "outputs": [],
      "source": [
        "def train_model(model, train_loader, val_loader, num_epochs, device):\n",
        "    \"\"\"Train the sliding window model\"\"\"\n",
        "    optimizer = torch.optim.Adam(model.parameters(), lr=LR, weight_decay=1e-5)\n",
        "    criterion = nn.BCEWithLogitsLoss()\n",
        "    scheduler = torch.optim.lr_scheduler.ReduceLROnPlateau(optimizer, patience=3, factor=0.5)\n",
        "\n",
        "    train_losses = []\n",
        "    val_losses = []\n",
        "    best_val_loss = float('inf')\n",
        "\n",
        "    for epoch in range(num_epochs):\n",
        "        # Training\n",
        "        model.train()\n",
        "        train_loss = 0\n",
        "        train_batches = 0\n",
        "\n",
        "        progress_bar = tqdm(train_loader, desc=f\"Epoch {epoch+1}/{num_epochs}\")\n",
        "        for batch in progress_bar:\n",
        "            windows = batch['window'].to(device)\n",
        "            labels = batch['label'].to(device).float()\n",
        "\n",
        "            optimizer.zero_grad()\n",
        "\n",
        "            logits = model(windows)\n",
        "            loss = criterion(logits, labels)\n",
        "\n",
        "            loss.backward()\n",
        "            optimizer.step()\n",
        "\n",
        "            train_loss += loss.item()\n",
        "            train_batches += 1\n",
        "\n",
        "            progress_bar.set_postfix({'loss': f'{loss.item():.4f}'})\n",
        "\n",
        "        avg_train_loss = train_loss / train_batches\n",
        "        train_losses.append(avg_train_loss)\n",
        "\n",
        "        # Validation\n",
        "        model.eval()\n",
        "        val_loss = 0\n",
        "        val_batches = 0\n",
        "        val_correct = 0\n",
        "        val_total = 0\n",
        "\n",
        "        with torch.no_grad():\n",
        "            for batch in val_loader:\n",
        "                windows = batch['window'].to(device)\n",
        "                labels = batch['label'].to(device).float()\n",
        "\n",
        "                logits = model(windows)\n",
        "                loss = criterion(logits, labels)\n",
        "\n",
        "                val_loss += loss.item()\n",
        "                val_batches += 1\n",
        "\n",
        "                # Calculate accuracy\n",
        "                predictions = (torch.sigmoid(logits) > 0.5).float()\n",
        "                val_correct += (predictions == labels).sum().item()\n",
        "                val_total += labels.size(0)\n",
        "\n",
        "        avg_val_loss = val_loss / val_batches\n",
        "        val_accuracy = val_correct / val_total\n",
        "        val_losses.append(avg_val_loss)\n",
        "\n",
        "        # Learning rate scheduling\n",
        "        scheduler.step(avg_val_loss)\n",
        "\n",
        "        print(f\"Epoch {epoch+1}/{num_epochs} - Train Loss: {avg_train_loss:.4f}, \"\n",
        "              f\"Val Loss: {avg_val_loss:.4f}, Val Acc: {val_accuracy:.4f}\")\n",
        "\n",
        "        # Save best model\n",
        "        if avg_val_loss < best_val_loss:\n",
        "            best_val_loss = avg_val_loss\n",
        "            torch.save(model.state_dict(), MODEL_PATH)\n",
        "\n",
        "    return train_losses, val_losses"
      ]
    },
    {
      "cell_type": "code",
      "execution_count": 20,
      "id": "6713138b",
      "metadata": {
        "id": "6713138b"
      },
      "outputs": [],
      "source": [
        "# compute percentage of false predicted labels\n",
        "def sequence_level_accuracy(predictions, labels):\n",
        "    correct = 0\n",
        "    total = 0\n",
        "    for pred, label in zip(predictions, labels):\n",
        "        if len(pred) != len(label):\n",
        "            min_len = min(len(pred), len(label))\n",
        "            pred = pred[:min_len]\n",
        "            label = label[:min_len]\n",
        "        total += 1\n",
        "        if (pred == label).all():\n",
        "            correct += 1\n",
        "    return correct / total"
      ]
    },
    {
      "cell_type": "code",
      "execution_count": 21,
      "id": "0cfdfb0f",
      "metadata": {
        "id": "0cfdfb0f"
      },
      "outputs": [],
      "source": [
        "def evaluate_model(model, test_loader, device):\n",
        "    \"\"\"Evaluate the sliding window model\"\"\"\n",
        "    model.eval()\n",
        "    all_preds = []\n",
        "    all_labels = []\n",
        "    all_probs = []\n",
        "\n",
        "    with torch.no_grad():\n",
        "        for batch in tqdm(test_loader, desc=\"Evaluating\"):\n",
        "            windows = batch['window'].to(device)\n",
        "            labels = batch['label'].to(device)\n",
        "\n",
        "            logits = model(windows)\n",
        "            probabilities = torch.sigmoid(logits)\n",
        "            predictions = (probabilities > 0.5).long()\n",
        "\n",
        "            all_preds.extend(predictions.cpu().numpy())\n",
        "            all_labels.extend(labels.cpu().numpy())\n",
        "            all_probs.extend(probabilities.cpu().numpy())\n",
        "\n",
        "    # Calculate metrics\n",
        "    print(\"Classification Report:\")\n",
        "    print(classification_report(all_labels, all_preds, target_names=['No Signal', 'Signal']))\n",
        "\n",
        "    f1_weighted = f1_score(all_labels, all_preds, average='weighted')\n",
        "    f1_macro = f1_score(all_labels, all_preds, average='macro')\n",
        "    mcc = matthews_corrcoef(all_labels, all_preds)\n",
        "    accuracy = accuracy_score(all_labels, all_preds)\n",
        "\n",
        "    print(f\"F1 Score (weighted): {f1_weighted:.4f}\")\n",
        "    print(f\"F1 Score (macro): {f1_macro:.4f}\")\n",
        "    print(f\"Matthews Correlation Coefficient: {mcc:.4f}\")\n",
        "    print(f\"Accuracy: {accuracy:.4f}\")\n",
        "\n",
        "    return all_preds, all_labels, all_probs\n",
        "\n",
        "def predict_sequence(model, sequence, window_size, device, threshold=0.5):\n",
        "    \"\"\"Predict signal peptide positions for a full sequence\"\"\"\n",
        "    model.eval()\n",
        "\n",
        "    # Create dummy labels (don't need them for prediction)\n",
        "    dummy_labels = [0] * len(sequence)\n",
        "\n",
        "    # Create sliding windows\n",
        "    windows, _, positions = create_sliding_windows(sequence, dummy_labels, window_size, stride=1)\n",
        "\n",
        "    # Encode windows\n",
        "    encoded_windows = [one_hot_encode_window(window) for window in windows]\n",
        "\n",
        "    predictions = []\n",
        "    probabilities = []\n",
        "\n",
        "    with torch.no_grad():\n",
        "        for encoded_window in encoded_windows:\n",
        "            window_tensor = torch.tensor(encoded_window, dtype=torch.float32).unsqueeze(0).to(device)\n",
        "            logit = model(window_tensor)\n",
        "            prob = torch.sigmoid(logit).item()\n",
        "            pred = int(prob > threshold)\n",
        "\n",
        "            predictions.append(pred)\n",
        "            probabilities.append(prob)\n",
        "\n",
        "    return predictions, probabilities, positions"
      ]
    },
    {
      "cell_type": "code",
      "execution_count": 22,
      "id": "a8ad5489",
      "metadata": {
        "colab": {
          "base_uri": "https://localhost:8080/",
          "height": 1000
        },
        "id": "a8ad5489",
        "outputId": "7435a186-25eb-446c-822a-e9e8aa3c60fe"
      },
      "outputs": [
        {
          "output_type": "stream",
          "name": "stdout",
          "text": [
            "Loading training data...\n",
            "Total records loaded: 10940\n",
            "Records after filtering: 10925\n",
            "Total windows created: 764750\n",
            "Signal peptide windows: 44573\n",
            "Non-signal peptide windows: 720177\n",
            "\n",
            "Loading validation data...\n",
            "Total records loaded: 2735\n",
            "Records after filtering: 2725\n",
            "Total windows created: 190750\n",
            "Signal peptide windows: 11064\n",
            "Non-signal peptide windows: 179686\n",
            "\n",
            "Loading test data...\n",
            "Total records loaded: 3419\n",
            "Records after filtering: 3410\n",
            "Total windows created: 238700\n",
            "Signal peptide windows: 13786\n",
            "Non-signal peptide windows: 224914\n",
            "\n",
            "Train windows: 764750\n",
            "Validation windows: 190750\n",
            "Test windows: 238700\n",
            "Model parameters: 30,945\n"
          ]
        },
        {
          "output_type": "stream",
          "name": "stderr",
          "text": [
            "Epoch 1/10: 100%|██████████| 23899/23899 [02:16<00:00, 175.00it/s, loss=0.3107]\n"
          ]
        },
        {
          "output_type": "stream",
          "name": "stdout",
          "text": [
            "Epoch 1/10 - Train Loss: 0.0905, Val Loss: 0.0823, Val Acc: 0.9678\n"
          ]
        },
        {
          "output_type": "stream",
          "name": "stderr",
          "text": [
            "Epoch 2/10: 100%|██████████| 23899/23899 [02:12<00:00, 180.60it/s, loss=0.0117]\n"
          ]
        },
        {
          "output_type": "stream",
          "name": "stdout",
          "text": [
            "Epoch 2/10 - Train Loss: 0.0685, Val Loss: 0.0803, Val Acc: 0.9696\n"
          ]
        },
        {
          "output_type": "stream",
          "name": "stderr",
          "text": [
            "Epoch 3/10: 100%|██████████| 23899/23899 [02:12<00:00, 180.05it/s, loss=0.0448]\n"
          ]
        },
        {
          "output_type": "stream",
          "name": "stdout",
          "text": [
            "Epoch 3/10 - Train Loss: 0.0620, Val Loss: 0.0757, Val Acc: 0.9710\n"
          ]
        },
        {
          "output_type": "stream",
          "name": "stderr",
          "text": [
            "Epoch 4/10: 100%|██████████| 23899/23899 [02:12<00:00, 180.75it/s, loss=0.0057]\n"
          ]
        },
        {
          "output_type": "stream",
          "name": "stdout",
          "text": [
            "Epoch 4/10 - Train Loss: 0.0581, Val Loss: 0.0769, Val Acc: 0.9725\n"
          ]
        },
        {
          "output_type": "stream",
          "name": "stderr",
          "text": [
            "Epoch 5/10: 100%|██████████| 23899/23899 [02:12<00:00, 180.41it/s, loss=0.0013]\n"
          ]
        },
        {
          "output_type": "stream",
          "name": "stdout",
          "text": [
            "Epoch 5/10 - Train Loss: 0.0554, Val Loss: 0.0882, Val Acc: 0.9699\n"
          ]
        },
        {
          "output_type": "stream",
          "name": "stderr",
          "text": [
            "Epoch 6/10: 100%|██████████| 23899/23899 [02:11<00:00, 181.92it/s, loss=0.0017]\n"
          ]
        },
        {
          "output_type": "stream",
          "name": "stdout",
          "text": [
            "Epoch 6/10 - Train Loss: 0.0534, Val Loss: 0.0761, Val Acc: 0.9718\n"
          ]
        },
        {
          "output_type": "stream",
          "name": "stderr",
          "text": [
            "Epoch 7/10: 100%|██████████| 23899/23899 [02:14<00:00, 177.63it/s, loss=0.5217]\n"
          ]
        },
        {
          "output_type": "stream",
          "name": "stdout",
          "text": [
            "Epoch 7/10 - Train Loss: 0.0517, Val Loss: 0.0794, Val Acc: 0.9724\n"
          ]
        },
        {
          "output_type": "stream",
          "name": "stderr",
          "text": [
            "Epoch 8/10: 100%|██████████| 23899/23899 [02:17<00:00, 174.37it/s, loss=0.0008]\n"
          ]
        },
        {
          "output_type": "stream",
          "name": "stdout",
          "text": [
            "Epoch 8/10 - Train Loss: 0.0467, Val Loss: 0.0773, Val Acc: 0.9723\n"
          ]
        },
        {
          "output_type": "stream",
          "name": "stderr",
          "text": [
            "Epoch 9/10: 100%|██████████| 23899/23899 [02:15<00:00, 176.63it/s, loss=0.0024]\n"
          ]
        },
        {
          "output_type": "stream",
          "name": "stdout",
          "text": [
            "Epoch 9/10 - Train Loss: 0.0450, Val Loss: 0.0792, Val Acc: 0.9719\n"
          ]
        },
        {
          "output_type": "stream",
          "name": "stderr",
          "text": [
            "Epoch 10/10: 100%|██████████| 23899/23899 [02:12<00:00, 180.04it/s, loss=0.0118]\n"
          ]
        },
        {
          "output_type": "stream",
          "name": "stdout",
          "text": [
            "Epoch 10/10 - Train Loss: 0.0449, Val Loss: 0.0783, Val Acc: 0.9715\n",
            "\n",
            "Final Evaluation:\n"
          ]
        },
        {
          "output_type": "stream",
          "name": "stderr",
          "text": [
            "Evaluating: 100%|██████████| 7460/7460 [00:12<00:00, 583.33it/s]\n"
          ]
        },
        {
          "output_type": "stream",
          "name": "stdout",
          "text": [
            "Classification Report:\n",
            "              precision    recall  f1-score   support\n",
            "\n",
            "   No Signal       0.98      0.99      0.98    224914\n",
            "      Signal       0.77      0.73      0.75     13786\n",
            "\n",
            "    accuracy                           0.97    238700\n",
            "   macro avg       0.88      0.86      0.87    238700\n",
            "weighted avg       0.97      0.97      0.97    238700\n",
            "\n",
            "F1 Score (weighted): 0.9713\n",
            "F1 Score (macro): 0.8665\n",
            "Matthews Correlation Coefficient: 0.7333\n",
            "Accuracy: 0.9717\n"
          ]
        },
        {
          "output_type": "display_data",
          "data": {
            "text/plain": [
              "<Figure size 1200x500 with 2 Axes>"
            ],
            "image/png": "[encoded data removed]"
          },
          "metadata": {}
        }
      ],
      "source": [
        "# Load and preprocess data with sliding windows from files\n",
        "print(\"Loading training data...\")\n",
        "train_windows, train_labels, train_seq_ids = load_and_preprocess_data(TRAIN_CSV)\n",
        "\n",
        "print(\"\\nLoading validation data...\")\n",
        "val_windows, val_labels, val_seq_ids = load_and_preprocess_data(VAL_CSV)\n",
        "\n",
        "print(\"\\nLoading test data...\")\n",
        "test_windows, test_labels, test_seq_ids = load_and_preprocess_data(TEST_CSV)\n",
        "\n",
        "print(f\"\\nTrain windows: {len(train_windows)}\")\n",
        "print(f\"Validation windows: {len(val_windows)}\")\n",
        "print(f\"Test windows: {len(test_windows)}\")\n",
        "\n",
        "# Create datasets and loaders\n",
        "train_dataset = SlidingWindowDataset(train_windows, train_labels, WINDOW_SIZE)\n",
        "val_dataset = SlidingWindowDataset(val_windows, val_labels, WINDOW_SIZE)\n",
        "test_dataset = SlidingWindowDataset(test_windows, test_labels, WINDOW_SIZE)\n",
        "\n",
        "train_loader = DataLoader(train_dataset, batch_size=BATCH_SIZE, shuffle=True)\n",
        "val_loader = DataLoader(val_dataset, batch_size=BATCH_SIZE, shuffle=False)\n",
        "test_loader = DataLoader(test_dataset, batch_size=BATCH_SIZE, shuffle=False)\n",
        "\n",
        "# Initialize model (CNN version)\n",
        "model = SlidingWindowSignalPeptideClassifier(\n",
        "    WINDOW_SIZE, num_aa, hidden_dim=128, num_layers=2, use_cnn=True\n",
        ").to(DEVICE)\n",
        "\n",
        "print(f\"Model parameters: {sum(p.numel() for p in model.parameters()):,}\")\n",
        "\n",
        "# Train model\n",
        "train_losses, val_losses = train_model(model, train_loader, val_loader, EPOCHS, DEVICE)\n",
        "\n",
        "# Load best model for evaluation\n",
        "model.load_state_dict(torch.load(MODEL_PATH, map_location=DEVICE))\n",
        "\n",
        "# Evaluate model\n",
        "print(\"\\nFinal Evaluation:\")\n",
        "predictions, labels_true, probabilities = evaluate_model(model, test_loader, DEVICE)\n",
        "\n",
        "# Plot training curves\n",
        "plt.figure(figsize=(12, 5))\n",
        "\n",
        "plt.subplot(1, 2, 1)\n",
        "plt.plot(train_losses, label='Train Loss')\n",
        "plt.plot(val_losses, label='Validation Loss')\n",
        "plt.xlabel('Epoch')\n",
        "plt.ylabel('Loss')\n",
        "plt.legend()\n",
        "plt.title('Training Curves')\n",
        "\n",
        "plt.subplot(1, 2, 2)\n",
        "plt.hist(probabilities, bins=50, alpha=0.7, label='All Predictions')\n",
        "plt.xlabel('Prediction Probability')\n",
        "plt.ylabel('Count')\n",
        "plt.title('Prediction Probability Distribution')\n",
        "plt.legend()\n",
        "\n",
        "plt.tight_layout()\n",
        "plt.show()"
      ]
    },
    {
      "cell_type": "code",
      "execution_count": 23,
      "id": "O0_1O3GUiKEv",
      "metadata": {
        "colab": {
          "base_uri": "https://localhost:8080/"
        },
        "id": "O0_1O3GUiKEv",
        "outputId": "86ec63ef-1350-4e32-e727-0dd1459b902c"
      },
      "outputs": [
        {
          "output_type": "stream",
          "name": "stdout",
          "text": [
            "\n",
            "Example prediction for sequence: MKKTAIAIAVALAGFATVAQAAPKDNTWYTGAKLGHLQGPVRGVNPTTNA...\n",
            "Position\tAA\tProbability\tPrediction\n",
            "  0\tM\t0.979\t\tSignal\n",
            "  1\tK\t0.983\t\tSignal\n",
            "  2\tK\t0.983\t\tSignal\n",
            "  3\tT\t0.986\t\tSignal\n",
            "  4\tA\t0.987\t\tSignal\n",
            "  5\tI\t0.987\t\tSignal\n",
            "  6\tA\t0.986\t\tSignal\n",
            "  7\tI\t0.985\t\tSignal\n",
            "  8\tA\t0.984\t\tSignal\n",
            "  9\tV\t0.983\t\tSignal\n",
            " 10\tA\t0.984\t\tSignal\n",
            " 11\tL\t0.978\t\tSignal\n",
            " 12\tA\t0.967\t\tSignal\n",
            " 13\tG\t0.967\t\tSignal\n",
            " 14\tF\t0.972\t\tSignal\n",
            " 15\tA\t0.968\t\tSignal\n",
            " 16\tT\t0.965\t\tSignal\n",
            " 17\tV\t0.955\t\tSignal\n",
            " 18\tA\t0.892\t\tSignal\n",
            " 19\tQ\t0.744\t\tSignal\n",
            "\n",
            "Final model saved to /content/drive/MyDrive/PBLRost/models/2state_ohe_lin_cnn.pt\n"
          ]
        }
      ],
      "source": [
        "# Example: Predict on a sample sequence\n",
        "sample_sequence = \"MKKTAIAIAVALAGFATVAQAAPKDNTWYTGAKLGHLQGPVRGVNPTTNAASMKNFTNDIKKEDTSFVTLDAAQ\"\n",
        "print(f\"\\nExample prediction for sequence: {sample_sequence[:50]}...\")\n",
        "preds, probs, pos = predict_sequence(model, sample_sequence, WINDOW_SIZE, DEVICE)\n",
        "\n",
        "print(\"Position\\tAA\\tProbability\\tPrediction\")\n",
        "for i, (pred, prob, position) in enumerate(zip(preds[:20], probs[:20], pos[:20])):\n",
        "    aa = sample_sequence[position] if position < len(sample_sequence) else 'X'\n",
        "    print(f\"{position:3d}\\t{aa}\\t{prob:.3f}\\t\\t{'Signal' if pred else 'No Signal'}\")\n",
        "\n",
        "# Save final model\n",
        "torch.save(model.state_dict(), MODEL_PATH)\n",
        "print(f\"\\nFinal model saved to {MODEL_PATH}\")"
      ]
    }
  ],
  "metadata": {
    "accelerator": "GPU",
    "colab": {
      "gpuType": "T4",
      "provenance": []
    },
    "kernelspec": {
      "display_name": "Python 3",
      "name": "python3"
    },
    "language_info": {
      "codemirror_mode": {
        "name": "ipython",
        "version": 3
      },
      "file_extension": ".py",
      "mimetype": "text/x-python",
      "name": "python",
      "nbconvert_exporter": "python",
      "pygments_lexer": "ipython3",
      "version": "3.12.4"
    }
  },
  "nbformat": 4,
  "nbformat_minor": 5
}